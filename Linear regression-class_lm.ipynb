{
 "cells": [
  {
   "cell_type": "code",
   "execution_count": 3,
   "metadata": {},
   "outputs": [],
   "source": [
    "#import csv, split dependent and independent vars\n",
    "import pandas as pd\n",
    "\n",
    "from sklearn import linear_model\n",
    "from sklearn import preprocessing\n",
    "from sklearn.model_selection import train_test_split\n",
    "\n",
    "#visualize\n",
    "import matplotlib.pyplot as plt\n",
    "\n"
   ]
  },
  {
   "cell_type": "code",
   "execution_count": 4,
   "metadata": {},
   "outputs": [],
   "source": [
    "df = pd.read_csv('class_lm.csv')"
   ]
  },
  {
   "cell_type": "code",
   "execution_count": 5,
   "metadata": {
    "scrolled": true
   },
   "outputs": [
    {
     "data": {
      "text/html": [
       "<div>\n",
       "<style scoped>\n",
       "    .dataframe tbody tr th:only-of-type {\n",
       "        vertical-align: middle;\n",
       "    }\n",
       "\n",
       "    .dataframe tbody tr th {\n",
       "        vertical-align: top;\n",
       "    }\n",
       "\n",
       "    .dataframe thead th {\n",
       "        text-align: right;\n",
       "    }\n",
       "</style>\n",
       "<table border=\"1\" class=\"dataframe\">\n",
       "  <thead>\n",
       "    <tr style=\"text-align: right;\">\n",
       "      <th></th>\n",
       "      <th>y</th>\n",
       "      <th>x1</th>\n",
       "      <th>x2</th>\n",
       "      <th>x3</th>\n",
       "      <th>x4</th>\n",
       "      <th>x5</th>\n",
       "      <th>x6</th>\n",
       "    </tr>\n",
       "  </thead>\n",
       "  <tbody>\n",
       "    <tr>\n",
       "      <td>0</td>\n",
       "      <td>0</td>\n",
       "      <td>125</td>\n",
       "      <td>13462</td>\n",
       "      <td>1457</td>\n",
       "      <td>23499</td>\n",
       "      <td>1330</td>\n",
       "      <td>144</td>\n",
       "    </tr>\n",
       "    <tr>\n",
       "      <td>1</td>\n",
       "      <td>4</td>\n",
       "      <td>1156</td>\n",
       "      <td>14676</td>\n",
       "      <td>2377</td>\n",
       "      <td>30723</td>\n",
       "      <td>858</td>\n",
       "      <td>153</td>\n",
       "    </tr>\n",
       "    <tr>\n",
       "      <td>2</td>\n",
       "      <td>7</td>\n",
       "      <td>702</td>\n",
       "      <td>14473</td>\n",
       "      <td>3104</td>\n",
       "      <td>1814</td>\n",
       "      <td>9128</td>\n",
       "      <td>171</td>\n",
       "    </tr>\n",
       "    <tr>\n",
       "      <td>3</td>\n",
       "      <td>10</td>\n",
       "      <td>1648</td>\n",
       "      <td>5130</td>\n",
       "      <td>751</td>\n",
       "      <td>69288</td>\n",
       "      <td>1456</td>\n",
       "      <td>104</td>\n",
       "    </tr>\n",
       "    <tr>\n",
       "      <td>4</td>\n",
       "      <td>12</td>\n",
       "      <td>1799</td>\n",
       "      <td>3720</td>\n",
       "      <td>1634</td>\n",
       "      <td>35921</td>\n",
       "      <td>17209</td>\n",
       "      <td>102</td>\n",
       "    </tr>\n",
       "  </tbody>\n",
       "</table>\n",
       "</div>"
      ],
      "text/plain": [
       "    y    x1     x2    x3     x4     x5   x6\n",
       "0   0   125  13462  1457  23499   1330  144\n",
       "1   4  1156  14676  2377  30723    858  153\n",
       "2   7   702  14473  3104   1814   9128  171\n",
       "3  10  1648   5130   751  69288   1456  104\n",
       "4  12  1799   3720  1634  35921  17209  102"
      ]
     },
     "execution_count": 5,
     "metadata": {},
     "output_type": "execute_result"
    }
   ],
   "source": [
    "df.head()"
   ]
  },
  {
   "cell_type": "code",
   "execution_count": 6,
   "metadata": {},
   "outputs": [],
   "source": [
    "features = pd.DataFrame(df, columns = [\"x1\",\"x2\",\"x3\",\"x4\",\"x5\",\"x6\"])\n",
    "target = pd.DataFrame(df, columns = [\"y\"])"
   ]
  },
  {
   "cell_type": "code",
   "execution_count": 7,
   "metadata": {},
   "outputs": [
    {
     "data": {
      "text/html": [
       "<div>\n",
       "<style scoped>\n",
       "    .dataframe tbody tr th:only-of-type {\n",
       "        vertical-align: middle;\n",
       "    }\n",
       "\n",
       "    .dataframe tbody tr th {\n",
       "        vertical-align: top;\n",
       "    }\n",
       "\n",
       "    .dataframe thead th {\n",
       "        text-align: right;\n",
       "    }\n",
       "</style>\n",
       "<table border=\"1\" class=\"dataframe\">\n",
       "  <thead>\n",
       "    <tr style=\"text-align: right;\">\n",
       "      <th></th>\n",
       "      <th>y</th>\n",
       "    </tr>\n",
       "  </thead>\n",
       "  <tbody>\n",
       "    <tr>\n",
       "      <td>0</td>\n",
       "      <td>0</td>\n",
       "    </tr>\n",
       "    <tr>\n",
       "      <td>1</td>\n",
       "      <td>4</td>\n",
       "    </tr>\n",
       "    <tr>\n",
       "      <td>2</td>\n",
       "      <td>7</td>\n",
       "    </tr>\n",
       "    <tr>\n",
       "      <td>3</td>\n",
       "      <td>10</td>\n",
       "    </tr>\n",
       "    <tr>\n",
       "      <td>4</td>\n",
       "      <td>12</td>\n",
       "    </tr>\n",
       "  </tbody>\n",
       "</table>\n",
       "</div>"
      ],
      "text/plain": [
       "    y\n",
       "0   0\n",
       "1   4\n",
       "2   7\n",
       "3  10\n",
       "4  12"
      ]
     },
     "execution_count": 7,
     "metadata": {},
     "output_type": "execute_result"
    }
   ],
   "source": [
    "target.head()"
   ]
  },
  {
   "cell_type": "code",
   "execution_count": 8,
   "metadata": {},
   "outputs": [],
   "source": [
    "lm = linear_model.LinearRegression()\n",
    "model = lm.fit(features, target)"
   ]
  },
  {
   "cell_type": "code",
   "execution_count": 9,
   "metadata": {},
   "outputs": [
    {
     "data": {
      "text/plain": [
       "0.9209227520681926"
      ]
     },
     "execution_count": 9,
     "metadata": {},
     "output_type": "execute_result"
    }
   ],
   "source": [
    "#R square\n",
    "lm.score(features, target)"
   ]
  },
  {
   "cell_type": "code",
   "execution_count": 10,
   "metadata": {},
   "outputs": [
    {
     "data": {
      "text/plain": [
       "array([[ 0.73724129, -0.00090439,  0.17532095,  0.00098104, -0.0019734 ,\n",
       "         0.4007403 ]])"
      ]
     },
     "execution_count": 10,
     "metadata": {},
     "output_type": "execute_result"
    }
   ],
   "source": [
    "#if increase the x1 by 1, y will increse 0.737 \n",
    "#need to scale them\n",
    "lm.coef_"
   ]
  },
  {
   "cell_type": "code",
   "execution_count": 11,
   "metadata": {},
   "outputs": [],
   "source": [
    "predictions = lm.predict(features)"
   ]
  },
  {
   "cell_type": "code",
   "execution_count": 12,
   "metadata": {
    "scrolled": true
   },
   "outputs": [
    {
     "data": {
      "image/png": "[encoded data removed]",
      "text/plain": [
       "<Figure size 432x288 with 1 Axes>"
      ]
     },
     "metadata": {
      "needs_background": "light"
     },
     "output_type": "display_data"
    }
   ],
   "source": [
    "#compare the real one and the predict one\n",
    "plt.plot(predictions, target, color='r')\n",
    "plt.show()"
   ]
  },
  {
   "cell_type": "markdown",
   "metadata": {},
   "source": [
    "## scale standarlization normalization"
   ]
  },
  {
   "cell_type": "code",
   "execution_count": 26,
   "metadata": {},
   "outputs": [
    {
     "data": {
      "text/html": [
       "<div>\n",
       "<style scoped>\n",
       "    .dataframe tbody tr th:only-of-type {\n",
       "        vertical-align: middle;\n",
       "    }\n",
       "\n",
       "    .dataframe tbody tr th {\n",
       "        vertical-align: top;\n",
       "    }\n",
       "\n",
       "    .dataframe thead th {\n",
       "        text-align: right;\n",
       "    }\n",
       "</style>\n",
       "<table border=\"1\" class=\"dataframe\">\n",
       "  <thead>\n",
       "    <tr style=\"text-align: right;\">\n",
       "      <th></th>\n",
       "      <th>y</th>\n",
       "      <th>x1</th>\n",
       "      <th>x2</th>\n",
       "      <th>x3</th>\n",
       "      <th>x4</th>\n",
       "      <th>x5</th>\n",
       "      <th>x6</th>\n",
       "    </tr>\n",
       "  </thead>\n",
       "  <tbody>\n",
       "    <tr>\n",
       "      <td>0</td>\n",
       "      <td>0.000000</td>\n",
       "      <td>0.067999</td>\n",
       "      <td>1.570662</td>\n",
       "      <td>0.690547</td>\n",
       "      <td>1.007804</td>\n",
       "      <td>0.219212</td>\n",
       "      <td>5.074532</td>\n",
       "    </tr>\n",
       "    <tr>\n",
       "      <td>1</td>\n",
       "      <td>0.002309</td>\n",
       "      <td>0.628855</td>\n",
       "      <td>1.712304</td>\n",
       "      <td>1.126582</td>\n",
       "      <td>1.317620</td>\n",
       "      <td>0.141417</td>\n",
       "      <td>5.391690</td>\n",
       "    </tr>\n",
       "    <tr>\n",
       "      <td>2</td>\n",
       "      <td>0.004041</td>\n",
       "      <td>0.381883</td>\n",
       "      <td>1.688619</td>\n",
       "      <td>1.471145</td>\n",
       "      <td>0.077797</td>\n",
       "      <td>1.504487</td>\n",
       "      <td>6.026007</td>\n",
       "    </tr>\n",
       "    <tr>\n",
       "      <td>3</td>\n",
       "      <td>0.005773</td>\n",
       "      <td>0.896499</td>\n",
       "      <td>0.598536</td>\n",
       "      <td>0.355937</td>\n",
       "      <td>2.971560</td>\n",
       "      <td>0.239980</td>\n",
       "      <td>3.664940</td>\n",
       "    </tr>\n",
       "    <tr>\n",
       "      <td>4</td>\n",
       "      <td>0.006928</td>\n",
       "      <td>0.978642</td>\n",
       "      <td>0.434026</td>\n",
       "      <td>0.774436</td>\n",
       "      <td>1.540547</td>\n",
       "      <td>2.836407</td>\n",
       "      <td>3.594460</td>\n",
       "    </tr>\n",
       "    <tr>\n",
       "      <td>...</td>\n",
       "      <td>...</td>\n",
       "      <td>...</td>\n",
       "      <td>...</td>\n",
       "      <td>...</td>\n",
       "      <td>...</td>\n",
       "      <td>...</td>\n",
       "      <td>...</td>\n",
       "    </tr>\n",
       "    <tr>\n",
       "      <td>1995</td>\n",
       "      <td>3.455987</td>\n",
       "      <td>4.104967</td>\n",
       "      <td>0.431226</td>\n",
       "      <td>3.886875</td>\n",
       "      <td>1.725991</td>\n",
       "      <td>2.165090</td>\n",
       "      <td>5.638369</td>\n",
       "    </tr>\n",
       "    <tr>\n",
       "      <td>1996</td>\n",
       "      <td>3.457719</td>\n",
       "      <td>3.384177</td>\n",
       "      <td>2.433115</td>\n",
       "      <td>3.842797</td>\n",
       "      <td>3.168026</td>\n",
       "      <td>3.180883</td>\n",
       "      <td>6.166966</td>\n",
       "    </tr>\n",
       "    <tr>\n",
       "      <td>1997</td>\n",
       "      <td>3.459451</td>\n",
       "      <td>4.192549</td>\n",
       "      <td>3.412591</td>\n",
       "      <td>3.316237</td>\n",
       "      <td>2.113861</td>\n",
       "      <td>0.613464</td>\n",
       "      <td>4.933573</td>\n",
       "    </tr>\n",
       "    <tr>\n",
       "      <td>1998</td>\n",
       "      <td>3.460606</td>\n",
       "      <td>3.649645</td>\n",
       "      <td>3.544899</td>\n",
       "      <td>2.942764</td>\n",
       "      <td>2.658055</td>\n",
       "      <td>3.214507</td>\n",
       "      <td>4.651654</td>\n",
       "    </tr>\n",
       "    <tr>\n",
       "      <td>1999</td>\n",
       "      <td>3.462338</td>\n",
       "      <td>3.540846</td>\n",
       "      <td>2.860491</td>\n",
       "      <td>3.677862</td>\n",
       "      <td>2.911861</td>\n",
       "      <td>3.086111</td>\n",
       "      <td>4.757374</td>\n",
       "    </tr>\n",
       "  </tbody>\n",
       "</table>\n",
       "<p>2000 rows × 7 columns</p>\n",
       "</div>"
      ],
      "text/plain": [
       "             y        x1        x2        x3        x4        x5        x6\n",
       "0     0.000000  0.067999  1.570662  0.690547  1.007804  0.219212  5.074532\n",
       "1     0.002309  0.628855  1.712304  1.126582  1.317620  0.141417  5.391690\n",
       "2     0.004041  0.381883  1.688619  1.471145  0.077797  1.504487  6.026007\n",
       "3     0.005773  0.896499  0.598536  0.355937  2.971560  0.239980  3.664940\n",
       "4     0.006928  0.978642  0.434026  0.774436  1.540547  2.836407  3.594460\n",
       "...        ...       ...       ...       ...       ...       ...       ...\n",
       "1995  3.455987  4.104967  0.431226  3.886875  1.725991  2.165090  5.638369\n",
       "1996  3.457719  3.384177  2.433115  3.842797  3.168026  3.180883  6.166966\n",
       "1997  3.459451  4.192549  3.412591  3.316237  2.113861  0.613464  4.933573\n",
       "1998  3.460606  3.649645  3.544899  2.942764  2.658055  3.214507  4.651654\n",
       "1999  3.462338  3.540846  2.860491  3.677862  2.911861  3.086111  4.757374\n",
       "\n",
       "[2000 rows x 7 columns]"
      ]
     },
     "execution_count": 26,
     "metadata": {},
     "output_type": "execute_result"
    }
   ],
   "source": [
    "#if do not write: 'with_mean=False', then substract from mean\n",
    "df2 = pd.DataFrame(preprocessing.scale(df,with_mean=False))\n",
    "df2.columns=df.columns\n",
    "df2"
   ]
  },
  {
   "cell_type": "code",
   "execution_count": 18,
   "metadata": {},
   "outputs": [],
   "source": [
    "features = pd.DataFrame(df2, columns = [\"x1\",\"x2\",\"x3\",\"x4\",\"x5\",\"x6\"])\n",
    "target = pd.DataFrame(df2, columns = [\"y\"])"
   ]
  },
  {
   "cell_type": "code",
   "execution_count": 27,
   "metadata": {
    "scrolled": true
   },
   "outputs": [
    {
     "data": {
      "text/html": [
       "<div>\n",
       "<style scoped>\n",
       "    .dataframe tbody tr th:only-of-type {\n",
       "        vertical-align: middle;\n",
       "    }\n",
       "\n",
       "    .dataframe tbody tr th {\n",
       "        vertical-align: top;\n",
       "    }\n",
       "\n",
       "    .dataframe thead th {\n",
       "        text-align: right;\n",
       "    }\n",
       "</style>\n",
       "<table border=\"1\" class=\"dataframe\">\n",
       "  <thead>\n",
       "    <tr style=\"text-align: right;\">\n",
       "      <th></th>\n",
       "      <th>y</th>\n",
       "    </tr>\n",
       "  </thead>\n",
       "  <tbody>\n",
       "    <tr>\n",
       "      <td>0</td>\n",
       "      <td>0.000000</td>\n",
       "    </tr>\n",
       "    <tr>\n",
       "      <td>1</td>\n",
       "      <td>0.002309</td>\n",
       "    </tr>\n",
       "    <tr>\n",
       "      <td>2</td>\n",
       "      <td>0.004041</td>\n",
       "    </tr>\n",
       "    <tr>\n",
       "      <td>3</td>\n",
       "      <td>0.005773</td>\n",
       "    </tr>\n",
       "    <tr>\n",
       "      <td>4</td>\n",
       "      <td>0.006928</td>\n",
       "    </tr>\n",
       "  </tbody>\n",
       "</table>\n",
       "</div>"
      ],
      "text/plain": [
       "          y\n",
       "0  0.000000\n",
       "1  0.002309\n",
       "2  0.004041\n",
       "3  0.005773\n",
       "4  0.006928"
      ]
     },
     "execution_count": 27,
     "metadata": {},
     "output_type": "execute_result"
    }
   ],
   "source": [
    "target.head()"
   ]
  },
  {
   "cell_type": "code",
   "execution_count": 28,
   "metadata": {},
   "outputs": [],
   "source": [
    "lm = linear_model.LinearRegression()\n",
    "model = lm.fit(features, target)"
   ]
  },
  {
   "cell_type": "code",
   "execution_count": 29,
   "metadata": {},
   "outputs": [
    {
     "data": {
      "text/plain": [
       "0.9209227520681925"
      ]
     },
     "execution_count": 29,
     "metadata": {},
     "output_type": "execute_result"
    }
   ],
   "source": [
    "#R square\n",
    "lm.score(features, target)"
   ]
  },
  {
   "cell_type": "code",
   "execution_count": 31,
   "metadata": {},
   "outputs": [
    {
     "data": {
      "text/plain": [
       "array([[ 0.78244219, -0.00447528,  0.21356768,  0.01320676, -0.00691253,\n",
       "         0.00656546]])"
      ]
     },
     "execution_count": 31,
     "metadata": {},
     "output_type": "execute_result"
    }
   ],
   "source": [
    "#coefficient after scale\n",
    "lm.coef_"
   ]
  },
  {
   "cell_type": "code",
   "execution_count": 32,
   "metadata": {},
   "outputs": [],
   "source": [
    "predictions = lm.predict(features)"
   ]
  },
  {
   "cell_type": "code",
   "execution_count": 33,
   "metadata": {
    "scrolled": true
   },
   "outputs": [
    {
     "data": {
      "image/png": "[encoded data removed]",
      "text/plain": [
       "<Figure size 432x288 with 1 Axes>"
      ]
     },
     "metadata": {
      "needs_background": "light"
     },
     "output_type": "display_data"
    }
   ],
   "source": [
    "#compare the real one and the predict one\n",
    "plt.plot(predictions, target, color='r')\n",
    "plt.show()"
   ]
  },
  {
   "cell_type": "markdown",
   "metadata": {},
   "source": [
    "## split data into training and testing data"
   ]
  },
  {
   "cell_type": "code",
   "execution_count": 35,
   "metadata": {},
   "outputs": [],
   "source": [
    "df_train, df_test = train_test_split(df2, test_size=0.25)"
   ]
  },
  {
   "cell_type": "code",
   "execution_count": 36,
   "metadata": {},
   "outputs": [
    {
     "data": {
      "text/html": [
       "<div>\n",
       "<style scoped>\n",
       "    .dataframe tbody tr th:only-of-type {\n",
       "        vertical-align: middle;\n",
       "    }\n",
       "\n",
       "    .dataframe tbody tr th {\n",
       "        vertical-align: top;\n",
       "    }\n",
       "\n",
       "    .dataframe thead th {\n",
       "        text-align: right;\n",
       "    }\n",
       "</style>\n",
       "<table border=\"1\" class=\"dataframe\">\n",
       "  <thead>\n",
       "    <tr style=\"text-align: right;\">\n",
       "      <th></th>\n",
       "      <th>y</th>\n",
       "      <th>x1</th>\n",
       "      <th>x2</th>\n",
       "      <th>x3</th>\n",
       "      <th>x4</th>\n",
       "      <th>x5</th>\n",
       "      <th>x6</th>\n",
       "    </tr>\n",
       "  </thead>\n",
       "  <tbody>\n",
       "    <tr>\n",
       "      <td>456</td>\n",
       "      <td>0.789808</td>\n",
       "      <td>0.755605</td>\n",
       "      <td>3.531715</td>\n",
       "      <td>0.931788</td>\n",
       "      <td>0.727150</td>\n",
       "      <td>1.840228</td>\n",
       "      <td>5.356450</td>\n",
       "    </tr>\n",
       "    <tr>\n",
       "      <td>603</td>\n",
       "      <td>1.044994</td>\n",
       "      <td>1.133680</td>\n",
       "      <td>1.590730</td>\n",
       "      <td>1.620440</td>\n",
       "      <td>0.593171</td>\n",
       "      <td>1.484050</td>\n",
       "      <td>5.321211</td>\n",
       "    </tr>\n",
       "    <tr>\n",
       "      <td>849</td>\n",
       "      <td>1.471075</td>\n",
       "      <td>1.535691</td>\n",
       "      <td>2.829339</td>\n",
       "      <td>2.306721</td>\n",
       "      <td>0.398464</td>\n",
       "      <td>0.706094</td>\n",
       "      <td>4.686894</td>\n",
       "    </tr>\n",
       "    <tr>\n",
       "      <td>1097</td>\n",
       "      <td>1.900620</td>\n",
       "      <td>2.596476</td>\n",
       "      <td>3.486212</td>\n",
       "      <td>3.399653</td>\n",
       "      <td>2.806016</td>\n",
       "      <td>0.154767</td>\n",
       "      <td>5.074532</td>\n",
       "    </tr>\n",
       "    <tr>\n",
       "      <td>635</td>\n",
       "      <td>1.100420</td>\n",
       "      <td>1.558538</td>\n",
       "      <td>3.130707</td>\n",
       "      <td>2.531374</td>\n",
       "      <td>3.090100</td>\n",
       "      <td>1.983458</td>\n",
       "      <td>3.559220</td>\n",
       "    </tr>\n",
       "  </tbody>\n",
       "</table>\n",
       "</div>"
      ],
      "text/plain": [
       "             y        x1        x2        x3        x4        x5        x6\n",
       "456   0.789808  0.755605  3.531715  0.931788  0.727150  1.840228  5.356450\n",
       "603   1.044994  1.133680  1.590730  1.620440  0.593171  1.484050  5.321211\n",
       "849   1.471075  1.535691  2.829339  2.306721  0.398464  0.706094  4.686894\n",
       "1097  1.900620  2.596476  3.486212  3.399653  2.806016  0.154767  5.074532\n",
       "635   1.100420  1.558538  3.130707  2.531374  3.090100  1.983458  3.559220"
      ]
     },
     "execution_count": 36,
     "metadata": {},
     "output_type": "execute_result"
    }
   ],
   "source": [
    "df_test.head()"
   ]
  },
  {
   "cell_type": "code",
   "execution_count": 37,
   "metadata": {},
   "outputs": [],
   "source": [
    "features_train = pd.DataFrame(df_train, columns = [\"x1\",\"x2\",\"x3\",\"x4\",\"x5\",\"x6\"])\n",
    "features_test = pd.DataFrame(df_test, columns = [\"x1\",\"x2\",\"x3\",\"x4\",\"x5\",\"x6\"])\n",
    "\n",
    "target_train = pd.DataFrame(df_train, columns = [\"y\"])\n",
    "target_test = pd.DataFrame(df_test, columns = [\"y\"])"
   ]
  },
  {
   "cell_type": "code",
   "execution_count": 38,
   "metadata": {},
   "outputs": [],
   "source": [
    "lm = linear_model.LinearRegression()\n",
    "model = lm.fit(features_train, target_train)"
   ]
  },
  {
   "cell_type": "code",
   "execution_count": 39,
   "metadata": {},
   "outputs": [
    {
     "data": {
      "text/plain": [
       "0.9144138544006682"
      ]
     },
     "execution_count": 39,
     "metadata": {},
     "output_type": "execute_result"
    }
   ],
   "source": [
    "#R square\n",
    "lm.score(features_test, target_test)"
   ]
  },
  {
   "cell_type": "code",
   "execution_count": 41,
   "metadata": {},
   "outputs": [
    {
     "data": {
      "text/plain": [
       "array([[ 0.78487686, -0.00677946,  0.2067846 ,  0.01349125, -0.01114793,\n",
       "         0.00862653]])"
      ]
     },
     "execution_count": 41,
     "metadata": {},
     "output_type": "execute_result"
    }
   ],
   "source": [
    "lm.coef_"
   ]
  },
  {
   "cell_type": "code",
   "execution_count": 42,
   "metadata": {},
   "outputs": [],
   "source": [
    "predictions = lm.predict(features_test)"
   ]
  },
  {
   "cell_type": "code",
   "execution_count": 43,
   "metadata": {},
   "outputs": [
    {
     "data": {
      "image/png": "[encoded data removed]",
      "text/plain": [
       "<Figure size 432x288 with 1 Axes>"
      ]
     },
     "metadata": {
      "needs_background": "light"
     },
     "output_type": "display_data"
    }
   ],
   "source": [
    "plt.plot(predictions, target_test, color='r')\n",
    "plt.show()"
   ]
  },
  {
   "cell_type": "code",
   "execution_count": null,
   "metadata": {},
   "outputs": [],
   "source": []
  }
 ],
 "metadata": {
  "kernelspec": {
   "display_name": "Python 3",
   "language": "python",
   "name": "python3"
  },
  "language_info": {
   "codemirror_mode": {
    "name": "ipython",
    "version": 3
   },
   "file_extension": ".py",
   "mimetype": "text/x-python",
   "name": "python",
   "nbconvert_exporter": "python",
   "pygments_lexer": "ipython3",
   "version": "3.7.4"
  }
 },
 "nbformat": 4,
 "nbformat_minor": 2
}
